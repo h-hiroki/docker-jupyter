{
 "cells": [
  {
   "cell_type": "code",
   "execution_count": 1,
   "metadata": {},
   "outputs": [],
   "source": [
    "# 00"
   ]
  },
  {
   "cell_type": "code",
   "execution_count": 9,
   "metadata": {},
   "outputs": [
    {
     "name": "stdout",
     "output_type": "stream",
     "text": [
      "desserts\n"
     ]
    }
   ],
   "source": [
    "str = \"stressed\"\n",
    "print(str[::-1])"
   ]
  },
  {
   "cell_type": "code",
   "execution_count": 10,
   "metadata": {},
   "outputs": [],
   "source": [
    "# 01"
   ]
  },
  {
   "cell_type": "code",
   "execution_count": 12,
   "metadata": {},
   "outputs": [
    {
     "name": "stdout",
     "output_type": "stream",
     "text": [
      "パトカー\n"
     ]
    }
   ],
   "source": [
    "str = \"パタトクカシーー\"\n",
    "print(str[::2])"
   ]
  },
  {
   "cell_type": "code",
   "execution_count": 13,
   "metadata": {},
   "outputs": [],
   "source": [
    "# 02"
   ]
  },
  {
   "cell_type": "code",
   "execution_count": 46,
   "metadata": {},
   "outputs": [
    {
     "name": "stdout",
     "output_type": "stream",
     "text": [
      "パタトクカシーー\n"
     ]
    }
   ],
   "source": [
    "str_1 = \"パトカー\"\n",
    "str_2 = \"タクシー\"\n",
    "concat_str = \"\"\n",
    "\n",
    "for i in range(0, len(str_1)): # ループ回数を綺麗にしたいっすね\n",
    "    concat_str += str_1[i] + str_2[i]\n",
    "\n",
    "print(concat_str)\n"
   ]
  },
  {
   "cell_type": "code",
   "execution_count": 47,
   "metadata": {},
   "outputs": [],
   "source": [
    "# 03"
   ]
  },
  {
   "cell_type": "code",
   "execution_count": 73,
   "metadata": {},
   "outputs": [
    {
     "name": "stdout",
     "output_type": "stream",
     "text": [
      "3\n",
      "1\n",
      "4\n",
      "1\n",
      "6\n",
      "9\n",
      "2\n",
      "7\n",
      "5\n",
      "3\n",
      "5\n",
      "8\n",
      "9\n",
      "7\n",
      "10\n"
     ]
    }
   ],
   "source": [
    "str = \"Now I need a drink, alcoholic of course, after the heavy lectures involving quantum mechanics.\"\n",
    "word_list = str.split()\n",
    "\n",
    "for word in word_list:\n",
    "    print(len(word))"
   ]
  },
  {
   "cell_type": "code",
   "execution_count": 56,
   "metadata": {},
   "outputs": [],
   "source": [
    "# 04"
   ]
  },
  {
   "cell_type": "code",
   "execution_count": 87,
   "metadata": {},
   "outputs": [
    {
     "name": "stdout",
     "output_type": "stream",
     "text": [
      "{'Hi': 0, 'H': 0, 'Li': 6, 'Be': 11, 'Bo': 19, 'C': 25, 'N': 31, 'O': 35, 'F': 43, 'Na': 57, 'Mi': 65, 'Al': 71, 'Si': 76, 'Pe': 81, 'S': 76, 'Ar': 104, 'Ki': 111}\n"
     ]
    }
   ],
   "source": [
    "str = \"Hi He Lied Because Boron Could Not Oxidize Fluorine. New Nations Might Also Sign Peace Security Clause. Arthur King Can.\"\n",
    "word_list = str.split()\n",
    "result = {}\n",
    "\n",
    "for index, item in enumerate(word_list):\n",
    "    if (index) in [1, 5, 6, 7, 8, 9, 15, 16, 19]:\n",
    "        result[item[:1]] = str.find(item[:1])\n",
    "    else:\n",
    "        result[item[:2]] = str.find(item[:2])\n",
    "\n",
    "print(result)\n"
   ]
  },
  {
   "cell_type": "code",
   "execution_count": 4,
   "metadata": {},
   "outputs": [],
   "source": [
    "# 05\n",
    "# n-gramとは、任意の文書や文字列などにおける任意のn文字が連続した文字列のことである。\n",
    "# 1文字続きのものはunigram、2文字続きのものはbigram、3文字続きのものはtrigram、と特に呼ばれ、4文字以上のものは、単に4-gram、5-gramと表現されることが多い。\n",
    "# また、n-gramを元にした言語モデルとしてはn-gramモデルがある。n-gramモデルの場合は、特定のn-gramに関するコーパスや文章集合における出現頻度や共起の仕方に着目する。\n",
    "# https://www.weblio.jp/content/n-gram"
   ]
  },
  {
   "cell_type": "code",
   "execution_count": 59,
   "metadata": {},
   "outputs": [
    {
     "data": {
      "text/plain": [
       "[['I', 'am'], ['am', 'an'], ['an', 'NLPer'], ['NLPer']]"
      ]
     },
     "execution_count": 59,
     "metadata": {},
     "output_type": "execute_result"
    }
   ],
   "source": [
    "str = 'I am an NLPer'\n",
    "\n",
    "def ngram(text, n):\n",
    "    result = []\n",
    "    if type(text) == list:  # 単語n-gram\n",
    "        for i in range(0, len(text)):\n",
    "            result += [text[i:i+n]]\n",
    "    else:                   # 文字n-gram\n",
    "        for i in range(0, len(text)):\n",
    "            result += [text[i:i+n]]\n",
    "    return result\n",
    "            \n",
    "ngram(str, 2) # 文字bi-gram\n",
    "str = str.split()\n",
    "ngram(str, 2) # 単語bi-gram "
   ]
  },
  {
   "cell_type": "code",
   "execution_count": null,
   "metadata": {},
   "outputs": [],
   "source": []
  }
 ],
 "metadata": {
  "kernelspec": {
   "display_name": "Python 3",
   "language": "python",
   "name": "python3"
  },
  "language_info": {
   "codemirror_mode": {
    "name": "ipython",
    "version": 3
   },
   "file_extension": ".py",
   "mimetype": "text/x-python",
   "name": "python",
   "nbconvert_exporter": "python",
   "pygments_lexer": "ipython3",
   "version": "3.6.5"
  }
 },
 "nbformat": 4,
 "nbformat_minor": 2
}
